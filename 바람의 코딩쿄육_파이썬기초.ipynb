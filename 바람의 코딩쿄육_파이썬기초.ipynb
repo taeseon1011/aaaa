{
  "nbformat": 4,
  "nbformat_minor": 0,
  "metadata": {
    "colab": {
      "name": "Hello, Colaboratory",
      "version": "0.3.2",
      "provenance": [],
      "collapsed_sections": [],
      "toc_visible": true,
      "include_colab_link": true
    },
    "kernelspec": {
      "display_name": "Python 3",
      "name": "python3"
    }
  },
  "cells": [
    {
      "cell_type": "markdown",
      "metadata": {
        "id": "view-in-github",
        "colab_type": "text"
      },
      "source": [
        "<a href=\"https://colab.research.google.com/github/taeseon1011/aaaa/blob/master/%EB%B0%94%EB%9E%8C%EC%9D%98%20%EC%BD%94%EB%94%A9%EC%BF%84%EC%9C%A1_%ED%8C%8C%EC%9D%B4%EC%8D%AC%EA%B8%B0%EC%B4%88.ipynb\" target=\"_parent\"><img src=\"https://colab.research.google.com/assets/colab-badge.svg\" alt=\"Open In Colab\"/></a>"
      ]
    },
    {
      "metadata": {
        "id": "ITaHnqg-3nf7",
        "colab_type": "text"
      },
      "cell_type": "markdown",
      "source": [
        " ### for ... in 문\n",
        "- for 새로운 변수 in 문은 열거형(여러항목이 나열된 어떤목록)에 포함된 각 항목을 하나씩 거쳐가며 실행\n",
        "- range(시작-지정되지 않으면 기본값0, 끝-포함되지 않음, 증감-지정되지 않으면 기본값1)"
      ]
    },
    {
      "metadata": {
        "id": "f_G2Aegd30Yh",
        "colab_type": "code",
        "colab": {
          "base_uri": "https://localhost:8080/",
          "height": 107
        },
        "outputId": "04b0e308-6c1b-4ad9-8d75-88ec6c3912fd"
      },
      "cell_type": "code",
      "source": [
        "for i in range(1,5): #\n",
        "  print(i)\n",
        "else:\n",
        "  print(\"for문이 종료되었습니다\")"
      ],
      "execution_count": 2,
      "outputs": [
        {
          "output_type": "stream",
          "text": [
            "1\n",
            "2\n",
            "3\n",
            "4\n",
            "for문이 종료되었습니다\n"
          ],
          "name": "stdout"
        }
      ]
    },
    {
      "metadata": {
        "id": "gES-7t8x38hW",
        "colab_type": "code",
        "colab": {
          "base_uri": "https://localhost:8080/",
          "height": 35
        },
        "outputId": "0ccea5d1-7279-4d32-930e-0428699dbb2c"
      },
      "cell_type": "code",
      "source": [
        "a = range(1,5)\n",
        "list(a)"
      ],
      "execution_count": 3,
      "outputs": [
        {
          "output_type": "execute_result",
          "data": {
            "text/plain": [
              "[1, 2, 3, 4]"
            ]
          },
          "metadata": {
            "tags": []
          },
          "execution_count": 3
        }
      ]
    },
    {
      "metadata": {
        "id": "_JXQ7-y54SQO",
        "colab_type": "code",
        "colab": {}
      },
      "cell_type": "code",
      "source": [
        "for firstnumber in range(2,10):\n",
        "  for secondNumber in range(1,10):\n",
        "    print(firstnumber, '*', secondNumber, '=', firstnumber* secondNumber)\n",
        "  print('')    \n",
        "else:\n",
        "  print('구구단의 완료')"
      ],
      "execution_count": 0,
      "outputs": []
    },
    {
      "metadata": {
        "id": "CZe3pBdV78v4",
        "colab_type": "text"
      },
      "cell_type": "markdown",
      "source": [
        "### break, continue (\"while, for + else\")\n",
        "- break 문은 루프를 강제로 빠져나올 때 사용 \n",
        "  - 루프 조건이 'False' 가 되지 않았거나\n",
        "  - 열거형의 끝까지 루프가 도달하지 않았지만\n",
        "  - 루프 문의 실행을 강제로 정지시키고 싶을 때 사용\n",
        "\n",
        "- break 실행시 else 블록은 실행되지 않음\n",
        "- while(조건1):\n",
        "   - 반복내용\n",
        "   - if (조건2):\n",
        "   -  break\n",
        "-  else :\n",
        " -     (조건1이 거짓일때) 실행할명령\n",
        "-  실행명령"
      ]
    },
    {
      "metadata": {
        "id": "87CUGMFm77PB",
        "colab_type": "code",
        "colab": {
          "base_uri": "https://localhost:8080/",
          "height": 197
        },
        "outputId": "00ebc9a2-bec1-4f2b-86c4-5ff1389a1134"
      },
      "cell_type": "code",
      "source": [
        "number = 23\n",
        "running = True\n",
        "while running:\n",
        "  guess = int(input(\"숫자를 입력하세요:\"))\n",
        "  if guess == number:\n",
        "    print(\"맞았습니다\")\n",
        "    running =False\n",
        "    \n",
        "  elif guess < number:\n",
        "    print(\"틀렸습니다. 조금 더 큰수입니다.\")\n",
        "  \n",
        "  else :\n",
        "    print(\"틀렸습니다. 조금 더 작은 수입니다\")\n",
        "\n",
        "else:\n",
        "  print(\"반복문이 정상적으로 종료되었습니다\")\n",
        "\n",
        "print(\"프로그램 종료\")  "
      ],
      "execution_count": 11,
      "outputs": [
        {
          "output_type": "stream",
          "text": [
            "숫자를 입력하세요:32\n",
            "틀렸습니다. 조금 더 작은 수입니다\n",
            "숫자를 입력하세요:44\n",
            "틀렸습니다. 조금 더 작은 수입니다\n",
            "숫자를 입력하세요:777\n",
            "틀렸습니다. 조금 더 작은 수입니다\n",
            "숫자를 입력하세요:23\n",
            "맞았습니다\n",
            "반복문이 정상적으로 종료되었습니다\n",
            "프로그램 종료\n"
          ],
          "name": "stdout"
        }
      ]
    },
    {
      "metadata": {
        "id": "vJTsraFA6LcA",
        "colab_type": "code",
        "colab": {
          "base_uri": "https://localhost:8080/",
          "height": 71
        },
        "outputId": "9f702d46-6ac1-4a88-906d-4b630a5937e4"
      },
      "cell_type": "code",
      "source": [
        "number = 23\n",
        "running = True\n",
        "loopState = False #else문에서 바뀌는 것로 하겠당.\n",
        "while running:\n",
        "  guess = int(input(\"숫자를 입력하세요:\"))\n",
        "  if guess == 20181119 :  #빠져나갈수 있는 나만알고있는코드\n",
        "    print(\"종료합니다\")\n",
        "    break\n",
        "  if guess == number:\n",
        "    print(\"맞았습니다\")\n",
        "    running =False\n",
        "    \n",
        "  elif guess < number:\n",
        "    print(\"틀렸습니다. 조금 더 큰수입니다.\")\n",
        "  \n",
        "  else :\n",
        "    print(\"틀렸습니다. 조금 더 작은 수입니다\")\n",
        "\n",
        "#else: #이것도 실행안하고 바로 print로 가네 \n",
        " # print(\"반복문이 정상적으로 종료되었습니다\")\n",
        "  #loopState = True\n",
        "\n",
        "if loopState == True:\n",
        "  print(\"프로그램 정상종료\")\n",
        "else :\n",
        "  print (\"프로그램이 강제 종료되었습니다\")\n"
      ],
      "execution_count": 17,
      "outputs": [
        {
          "output_type": "stream",
          "text": [
            "숫자를 입력하세요:20181119\n",
            "종료합니다\n",
            "프로그램이 강제 종료되었습니다\n"
          ],
          "name": "stdout"
        }
      ]
    },
    {
      "metadata": {
        "id": "doaNKY9oDAl1",
        "colab_type": "text"
      },
      "cell_type": "markdown",
      "source": [
        "- continue 문은 현재 실행중인 루프블록의 나머지 명령문들을 실행하지 않고 곧바로 다음 루프로 넘어간다."
      ]
    },
    {
      "metadata": {
        "id": "P0bmcX6LDQ0-",
        "colab_type": "code",
        "colab": {
          "base_uri": "https://localhost:8080/",
          "height": 71
        },
        "outputId": "02efa4d1-2732-476c-a17f-2f5cc8d778f2"
      },
      "cell_type": "code",
      "source": [
        "while True:\n",
        "  name = input(\"영어이름을 입력하세요 :\")\n",
        "  if name == 'quit':\n",
        "    break\n",
        "    \n",
        "  if len(name) < 3:\n",
        "    print('너무 작습니다. 다시 입력해주세요.', len(name))\n",
        "    continue\n",
        "  \n",
        "  print('이름을 입력하셨습니다')"
      ],
      "execution_count": 22,
      "outputs": [
        {
          "output_type": "stream",
          "text": [
            "영어이름을 입력하세요 :sdfsfd\n",
            "이름을 입력하셨습니다\n",
            "영어이름을 입력하세요 :quit\n"
          ],
          "name": "stdout"
        }
      ]
    },
    {
      "metadata": {
        "id": "Vnx6N_iHEwQW",
        "colab_type": "text"
      },
      "cell_type": "markdown",
      "source": [
        "### 함수 (재사용 가능한 프로그램의 조각)\n",
        "1. 함수를 만든다.\n",
        "2. 만들어지 함수에 이름을 붙인다.\n",
        "3. 원하는 곳에서 함수의 이름을 부른다.\n",
        "\n",
        "\n",
        "- def say_hello():  # 함수의 이름\n",
        "  - print('hello world') #함수가 할 일\n",
        "- say_hello() #함수를 부른다  \n",
        "\n",
        "- 매개변수 : 함수로 넘겨지는 값들의 이름, 함수를 정의할때 주어진 이름\n",
        "- 인자: 함수에 넘겨준 값\n",
        "\n",
        "-def + 함수이름 + (+인자들(매개변수)+) 콜론: # +인자들(매개변수)+필요없으면() 해도됌\n",
        "    - 함수가 할일(명령)1\n",
        "    - 함수가 할일(명령)2\n",
        " \n",
        "-def say_hello():\n",
        "    - print(\"hello World\")"
      ]
    },
    {
      "metadata": {
        "id": "RLrec_qhIRMY",
        "colab_type": "code",
        "colab": {}
      },
      "cell_type": "code",
      "source": [
        ""
      ],
      "execution_count": 0,
      "outputs": []
    },
    {
      "metadata": {
        "id": "nF1mYkBwFipS",
        "colab_type": "code",
        "colab": {
          "base_uri": "https://localhost:8080/",
          "height": 53
        },
        "outputId": "3bee09ed-b3ed-47e8-e69f-b2d2f252a4e3"
      },
      "cell_type": "code",
      "source": [
        "# 매개변수를 가진 함수의 예\n",
        "def print_max(a, b):\n",
        "  if a > b :\n",
        "    print(a, 'is maximun')\n",
        "  elif a == b :\n",
        "    print (a, 'is equal to', b)\n",
        "  else :\n",
        "    print (b, 'is maximum')\n",
        "    \n",
        "print_max(3,4)\n",
        "x = 5\n",
        "y= 7\n",
        "print_max(x, y)"
      ],
      "execution_count": 26,
      "outputs": [
        {
          "output_type": "stream",
          "text": [
            "4 is maximum\n",
            "7 is maximum\n"
          ],
          "name": "stdout"
        }
      ]
    },
    {
      "metadata": {
        "id": "ngy5VyWzHRbO",
        "colab_type": "code",
        "colab": {}
      },
      "cell_type": "code",
      "source": [
        ""
      ],
      "execution_count": 0,
      "outputs": []
    }
  ]
}